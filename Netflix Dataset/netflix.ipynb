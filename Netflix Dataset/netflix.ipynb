{
 "cells": [
  {
   "cell_type": "code",
   "execution_count": 1,
   "metadata": {},
   "outputs": [],
   "source": [
    "import pandas as pd\n",
    "import numpy as np"
   ]
  },
  {
   "cell_type": "code",
   "execution_count": 37,
   "metadata": {},
   "outputs": [],
   "source": [
    "nt=pd.read_csv('netflix_titles.csv')"
   ]
  },
  {
   "cell_type": "code",
   "execution_count": 3,
   "metadata": {},
   "outputs": [
    {
     "data": {
      "text/html": [
       "<div>\n",
       "<style scoped>\n",
       "    .dataframe tbody tr th:only-of-type {\n",
       "        vertical-align: middle;\n",
       "    }\n",
       "\n",
       "    .dataframe tbody tr th {\n",
       "        vertical-align: top;\n",
       "    }\n",
       "\n",
       "    .dataframe thead th {\n",
       "        text-align: right;\n",
       "    }\n",
       "</style>\n",
       "<table border=\"1\" class=\"dataframe\">\n",
       "  <thead>\n",
       "    <tr style=\"text-align: right;\">\n",
       "      <th></th>\n",
       "      <th>show_id</th>\n",
       "      <th>type</th>\n",
       "      <th>title</th>\n",
       "      <th>director</th>\n",
       "      <th>cast</th>\n",
       "      <th>country</th>\n",
       "      <th>date_added</th>\n",
       "      <th>release_year</th>\n",
       "      <th>rating</th>\n",
       "      <th>duration</th>\n",
       "      <th>listed_in</th>\n",
       "      <th>description</th>\n",
       "    </tr>\n",
       "  </thead>\n",
       "  <tbody>\n",
       "    <tr>\n",
       "      <th>0</th>\n",
       "      <td>s1</td>\n",
       "      <td>Movie</td>\n",
       "      <td>Dick Johnson Is Dead</td>\n",
       "      <td>Kirsten Johnson</td>\n",
       "      <td>NaN</td>\n",
       "      <td>United States</td>\n",
       "      <td>September 25, 2021</td>\n",
       "      <td>2020</td>\n",
       "      <td>PG-13</td>\n",
       "      <td>90 min</td>\n",
       "      <td>Documentaries</td>\n",
       "      <td>As her father nears the end of his life, filmm...</td>\n",
       "    </tr>\n",
       "    <tr>\n",
       "      <th>1</th>\n",
       "      <td>s2</td>\n",
       "      <td>TV Show</td>\n",
       "      <td>Blood &amp; Water</td>\n",
       "      <td>NaN</td>\n",
       "      <td>Ama Qamata, Khosi Ngema, Gail Mabalane, Thaban...</td>\n",
       "      <td>South Africa</td>\n",
       "      <td>September 24, 2021</td>\n",
       "      <td>2021</td>\n",
       "      <td>TV-MA</td>\n",
       "      <td>2 Seasons</td>\n",
       "      <td>International TV Shows, TV Dramas, TV Mysteries</td>\n",
       "      <td>After crossing paths at a party, a Cape Town t...</td>\n",
       "    </tr>\n",
       "    <tr>\n",
       "      <th>2</th>\n",
       "      <td>s3</td>\n",
       "      <td>TV Show</td>\n",
       "      <td>Ganglands</td>\n",
       "      <td>Julien Leclercq</td>\n",
       "      <td>Sami Bouajila, Tracy Gotoas, Samuel Jouy, Nabi...</td>\n",
       "      <td>NaN</td>\n",
       "      <td>September 24, 2021</td>\n",
       "      <td>2021</td>\n",
       "      <td>TV-MA</td>\n",
       "      <td>1 Season</td>\n",
       "      <td>Crime TV Shows, International TV Shows, TV Act...</td>\n",
       "      <td>To protect his family from a powerful drug lor...</td>\n",
       "    </tr>\n",
       "    <tr>\n",
       "      <th>3</th>\n",
       "      <td>s4</td>\n",
       "      <td>TV Show</td>\n",
       "      <td>Jailbirds New Orleans</td>\n",
       "      <td>NaN</td>\n",
       "      <td>NaN</td>\n",
       "      <td>NaN</td>\n",
       "      <td>September 24, 2021</td>\n",
       "      <td>2021</td>\n",
       "      <td>TV-MA</td>\n",
       "      <td>1 Season</td>\n",
       "      <td>Docuseries, Reality TV</td>\n",
       "      <td>Feuds, flirtations and toilet talk go down amo...</td>\n",
       "    </tr>\n",
       "    <tr>\n",
       "      <th>4</th>\n",
       "      <td>s5</td>\n",
       "      <td>TV Show</td>\n",
       "      <td>Kota Factory</td>\n",
       "      <td>NaN</td>\n",
       "      <td>Mayur More, Jitendra Kumar, Ranjan Raj, Alam K...</td>\n",
       "      <td>India</td>\n",
       "      <td>September 24, 2021</td>\n",
       "      <td>2021</td>\n",
       "      <td>TV-MA</td>\n",
       "      <td>2 Seasons</td>\n",
       "      <td>International TV Shows, Romantic TV Shows, TV ...</td>\n",
       "      <td>In a city of coaching centers known to train I...</td>\n",
       "    </tr>\n",
       "  </tbody>\n",
       "</table>\n",
       "</div>"
      ],
      "text/plain": [
       "  show_id     type                  title         director  \\\n",
       "0      s1    Movie   Dick Johnson Is Dead  Kirsten Johnson   \n",
       "1      s2  TV Show          Blood & Water              NaN   \n",
       "2      s3  TV Show              Ganglands  Julien Leclercq   \n",
       "3      s4  TV Show  Jailbirds New Orleans              NaN   \n",
       "4      s5  TV Show           Kota Factory              NaN   \n",
       "\n",
       "                                                cast        country  \\\n",
       "0                                                NaN  United States   \n",
       "1  Ama Qamata, Khosi Ngema, Gail Mabalane, Thaban...   South Africa   \n",
       "2  Sami Bouajila, Tracy Gotoas, Samuel Jouy, Nabi...            NaN   \n",
       "3                                                NaN            NaN   \n",
       "4  Mayur More, Jitendra Kumar, Ranjan Raj, Alam K...          India   \n",
       "\n",
       "           date_added  release_year rating   duration  \\\n",
       "0  September 25, 2021          2020  PG-13     90 min   \n",
       "1  September 24, 2021          2021  TV-MA  2 Seasons   \n",
       "2  September 24, 2021          2021  TV-MA   1 Season   \n",
       "3  September 24, 2021          2021  TV-MA   1 Season   \n",
       "4  September 24, 2021          2021  TV-MA  2 Seasons   \n",
       "\n",
       "                                           listed_in  \\\n",
       "0                                      Documentaries   \n",
       "1    International TV Shows, TV Dramas, TV Mysteries   \n",
       "2  Crime TV Shows, International TV Shows, TV Act...   \n",
       "3                             Docuseries, Reality TV   \n",
       "4  International TV Shows, Romantic TV Shows, TV ...   \n",
       "\n",
       "                                         description  \n",
       "0  As her father nears the end of his life, filmm...  \n",
       "1  After crossing paths at a party, a Cape Town t...  \n",
       "2  To protect his family from a powerful drug lor...  \n",
       "3  Feuds, flirtations and toilet talk go down amo...  \n",
       "4  In a city of coaching centers known to train I...  "
      ]
     },
     "execution_count": 3,
     "metadata": {},
     "output_type": "execute_result"
    }
   ],
   "source": [
    "nt.head(5)"
   ]
  },
  {
   "cell_type": "code",
   "execution_count": 4,
   "metadata": {},
   "outputs": [],
   "source": [
    "moviedata=nt[nt.type == 'Movie']\n",
    "tvdata=nt[nt.type == 'TV Show']"
   ]
  },
  {
   "cell_type": "code",
   "execution_count": 5,
   "metadata": {},
   "outputs": [
    {
     "data": {
      "text/plain": [
       "type\n",
       "Movie      6131\n",
       "TV Show    2676\n",
       "Name: show_id, dtype: int64"
      ]
     },
     "execution_count": 5,
     "metadata": {},
     "output_type": "execute_result"
    }
   ],
   "source": [
    "listpublished=nt.groupby(['type']).count()\n",
    "listpublished['show_id']"
   ]
  },
  {
   "cell_type": "code",
   "execution_count": 6,
   "metadata": {},
   "outputs": [
    {
     "data": {
      "text/plain": [
       "director\n",
       "Alastair Fothergill                                                                                             3\n",
       "Stan Lathan                                                                                                     2\n",
       "Iginio Straffi                                                                                                  2\n",
       "Rob Seidenglanz                                                                                                 2\n",
       "Ken Burns                                                                                                       2\n",
       "Shin Won-ho                                                                                                     2\n",
       "Hsu Fu-chun                                                                                                     2\n",
       "Miguel Conde                                                                                                    1\n",
       "Mike Flanagan                                                                                                   1\n",
       "Norm Hiscock, Gary Howsam, Mike Smith, John Paul Tremblay, Robb Wells                                           1\n",
       "Moyoung Jin, Caroline Sá, Deepti Kakkar, Fahad Mustafa, Hikaru Toda, Chico Pereira, Elaine McMillion Sheldon    1\n",
       "Neslihan Yesilyurt                                                                                              1\n",
       "Nizar Shafi                                                                                                     1\n",
       "Noam Murro                                                                                                      1\n",
       "Nopparoj Chotmunkongsit                                                                                         1\n",
       "Name: show_id, dtype: int64"
      ]
     },
     "execution_count": 6,
     "metadata": {},
     "output_type": "execute_result"
    }
   ],
   "source": [
    "listdirectorstv=tvdata.groupby(['director']).count()\n",
    "listdirectorstv.sort_values(by=['show_id'],ascending=False).head(15)['show_id']"
   ]
  },
  {
   "cell_type": "code",
   "execution_count": 7,
   "metadata": {},
   "outputs": [
    {
     "data": {
      "text/plain": [
       "director\n",
       "Rajiv Chilaka             19\n",
       "Raúl Campos, Jan Suter    18\n",
       "Suhas Kadav               16\n",
       "Marcus Raboy              15\n",
       "Jay Karas                 14\n",
       "Cathy Garcia-Molina       13\n",
       "Martin Scorsese           12\n",
       "Jay Chapman               12\n",
       "Youssef Chahine           12\n",
       "Steven Spielberg          11\n",
       "Don Michael Paul          10\n",
       "David Dhawan               9\n",
       "Yılmaz Erdoğan             8\n",
       "Fernando Ayllón            8\n",
       "Hakan Algül                8\n",
       "Name: show_id, dtype: int64"
      ]
     },
     "execution_count": 7,
     "metadata": {},
     "output_type": "execute_result"
    }
   ],
   "source": [
    "listdirectorsmovie=moviedata.groupby(['director']).count()\n",
    "listdirectorsmovie.sort_values(by=['show_id'],ascending=False).head(15)['show_id']"
   ]
  },
  {
   "cell_type": "code",
   "execution_count": 9,
   "metadata": {},
   "outputs": [
    {
     "data": {
      "text/html": [
       "<div>\n",
       "<style scoped>\n",
       "    .dataframe tbody tr th:only-of-type {\n",
       "        vertical-align: middle;\n",
       "    }\n",
       "\n",
       "    .dataframe tbody tr th {\n",
       "        vertical-align: top;\n",
       "    }\n",
       "\n",
       "    .dataframe thead th {\n",
       "        text-align: right;\n",
       "    }\n",
       "</style>\n",
       "<table border=\"1\" class=\"dataframe\">\n",
       "  <thead>\n",
       "    <tr style=\"text-align: right;\">\n",
       "      <th></th>\n",
       "      <th>show_id</th>\n",
       "      <th>type</th>\n",
       "      <th>title</th>\n",
       "      <th>director</th>\n",
       "      <th>cast</th>\n",
       "      <th>country</th>\n",
       "      <th>date_added</th>\n",
       "      <th>release_year</th>\n",
       "      <th>rating</th>\n",
       "      <th>duration</th>\n",
       "      <th>listed_in</th>\n",
       "      <th>description</th>\n",
       "    </tr>\n",
       "  </thead>\n",
       "  <tbody>\n",
       "    <tr>\n",
       "      <th>0</th>\n",
       "      <td>s1</td>\n",
       "      <td>Movie</td>\n",
       "      <td>Dick Johnson Is Dead</td>\n",
       "      <td>Kirsten Johnson</td>\n",
       "      <td>NaN</td>\n",
       "      <td>United States</td>\n",
       "      <td>September 25, 2021</td>\n",
       "      <td>2020</td>\n",
       "      <td>PG-13</td>\n",
       "      <td>90 min</td>\n",
       "      <td>Documentaries</td>\n",
       "      <td>As her father nears the end of his life, filmm...</td>\n",
       "    </tr>\n",
       "    <tr>\n",
       "      <th>1</th>\n",
       "      <td>s2</td>\n",
       "      <td>TV Show</td>\n",
       "      <td>Blood &amp; Water</td>\n",
       "      <td>NaN</td>\n",
       "      <td>Ama Qamata, Khosi Ngema, Gail Mabalane, Thaban...</td>\n",
       "      <td>South Africa</td>\n",
       "      <td>September 24, 2021</td>\n",
       "      <td>2021</td>\n",
       "      <td>TV-MA</td>\n",
       "      <td>2 Seasons</td>\n",
       "      <td>International TV Shows, TV Dramas, TV Mysteries</td>\n",
       "      <td>After crossing paths at a party, a Cape Town t...</td>\n",
       "    </tr>\n",
       "    <tr>\n",
       "      <th>2</th>\n",
       "      <td>s3</td>\n",
       "      <td>TV Show</td>\n",
       "      <td>Ganglands</td>\n",
       "      <td>Julien Leclercq</td>\n",
       "      <td>Sami Bouajila, Tracy Gotoas, Samuel Jouy, Nabi...</td>\n",
       "      <td>NaN</td>\n",
       "      <td>September 24, 2021</td>\n",
       "      <td>2021</td>\n",
       "      <td>TV-MA</td>\n",
       "      <td>1 Season</td>\n",
       "      <td>Crime TV Shows, International TV Shows, TV Act...</td>\n",
       "      <td>To protect his family from a powerful drug lor...</td>\n",
       "    </tr>\n",
       "    <tr>\n",
       "      <th>3</th>\n",
       "      <td>s4</td>\n",
       "      <td>TV Show</td>\n",
       "      <td>Jailbirds New Orleans</td>\n",
       "      <td>NaN</td>\n",
       "      <td>NaN</td>\n",
       "      <td>NaN</td>\n",
       "      <td>September 24, 2021</td>\n",
       "      <td>2021</td>\n",
       "      <td>TV-MA</td>\n",
       "      <td>1 Season</td>\n",
       "      <td>Docuseries, Reality TV</td>\n",
       "      <td>Feuds, flirtations and toilet talk go down amo...</td>\n",
       "    </tr>\n",
       "    <tr>\n",
       "      <th>4</th>\n",
       "      <td>s5</td>\n",
       "      <td>TV Show</td>\n",
       "      <td>Kota Factory</td>\n",
       "      <td>NaN</td>\n",
       "      <td>Mayur More, Jitendra Kumar, Ranjan Raj, Alam K...</td>\n",
       "      <td>India</td>\n",
       "      <td>September 24, 2021</td>\n",
       "      <td>2021</td>\n",
       "      <td>TV-MA</td>\n",
       "      <td>2 Seasons</td>\n",
       "      <td>International TV Shows, Romantic TV Shows, TV ...</td>\n",
       "      <td>In a city of coaching centers known to train I...</td>\n",
       "    </tr>\n",
       "  </tbody>\n",
       "</table>\n",
       "</div>"
      ],
      "text/plain": [
       "  show_id     type                  title         director  \\\n",
       "0      s1    Movie   Dick Johnson Is Dead  Kirsten Johnson   \n",
       "1      s2  TV Show          Blood & Water              NaN   \n",
       "2      s3  TV Show              Ganglands  Julien Leclercq   \n",
       "3      s4  TV Show  Jailbirds New Orleans              NaN   \n",
       "4      s5  TV Show           Kota Factory              NaN   \n",
       "\n",
       "                                                cast        country  \\\n",
       "0                                                NaN  United States   \n",
       "1  Ama Qamata, Khosi Ngema, Gail Mabalane, Thaban...   South Africa   \n",
       "2  Sami Bouajila, Tracy Gotoas, Samuel Jouy, Nabi...            NaN   \n",
       "3                                                NaN            NaN   \n",
       "4  Mayur More, Jitendra Kumar, Ranjan Raj, Alam K...          India   \n",
       "\n",
       "           date_added  release_year rating   duration  \\\n",
       "0  September 25, 2021          2020  PG-13     90 min   \n",
       "1  September 24, 2021          2021  TV-MA  2 Seasons   \n",
       "2  September 24, 2021          2021  TV-MA   1 Season   \n",
       "3  September 24, 2021          2021  TV-MA   1 Season   \n",
       "4  September 24, 2021          2021  TV-MA  2 Seasons   \n",
       "\n",
       "                                           listed_in  \\\n",
       "0                                      Documentaries   \n",
       "1    International TV Shows, TV Dramas, TV Mysteries   \n",
       "2  Crime TV Shows, International TV Shows, TV Act...   \n",
       "3                             Docuseries, Reality TV   \n",
       "4  International TV Shows, Romantic TV Shows, TV ...   \n",
       "\n",
       "                                         description  \n",
       "0  As her father nears the end of his life, filmm...  \n",
       "1  After crossing paths at a party, a Cape Town t...  \n",
       "2  To protect his family from a powerful drug lor...  \n",
       "3  Feuds, flirtations and toilet talk go down amo...  \n",
       "4  In a city of coaching centers known to train I...  "
      ]
     },
     "execution_count": 9,
     "metadata": {},
     "output_type": "execute_result"
    }
   ],
   "source": [
    "nt.head()"
   ]
  },
  {
   "cell_type": "code",
   "execution_count": 39,
   "metadata": {},
   "outputs": [],
   "source": [
    "import datetime \n",
    "date_time_str = 'September 25, 2021'\n",
    "\n",
    "date_time_obj = datetime.datetime.strptime(date_time_str, '%B %d, %Y').date()\n"
   ]
  },
  {
   "cell_type": "code",
   "execution_count": 59,
   "metadata": {},
   "outputs": [],
   "source": [
    "def date_convert(date_to_convert):\n",
    "     return datetime.datetime.strptime(date_to_convert, '%B %d, %Y').date()\n",
    "     if error:\n",
    "\n",
    "def makingspacegone(date_to_convert):\n",
    "     if date_to_convert[0]==' ':\n",
    "          return datetime.datetime.strptime(date_to_convert, ' %B %d, %Y').date()\n",
    "     else:\n",
    "          return datetime.datetime.strptime(date_to_convert, '%B %d, %Y').date()\n",
    "\n",
    "\n"
   ]
  },
  {
   "cell_type": "code",
   "execution_count": 62,
   "metadata": {},
   "outputs": [
    {
     "ename": "ValueError",
     "evalue": "time data ' December 15, 2018' does not match format '%B %d, %Y' (match)",
     "output_type": "error",
     "traceback": [
      "\u001b[1;31m---------------------------------------------------------------------------\u001b[0m",
      "\u001b[1;31mTypeError\u001b[0m                                 Traceback (most recent call last)",
      "File \u001b[1;32mc:\\Users\\hp\\OneDrive\\Desktop\\Portofolio\\Mikha_Portofolio\\datascience\\lib\\site-packages\\pandas\\core\\tools\\datetimes.py:510\u001b[0m, in \u001b[0;36m_to_datetime_with_format\u001b[1;34m(arg, orig_arg, name, tz, fmt, exact, errors, infer_datetime_format)\u001b[0m\n\u001b[0;32m    <a href='file:///c%3A/Users/hp/OneDrive/Desktop/Portofolio/Mikha_Portofolio/datascience/lib/site-packages/pandas/core/tools/datetimes.py?line=508'>509</a>\u001b[0m \u001b[39mtry\u001b[39;00m:\n\u001b[1;32m--> <a href='file:///c%3A/Users/hp/OneDrive/Desktop/Portofolio/Mikha_Portofolio/datascience/lib/site-packages/pandas/core/tools/datetimes.py?line=509'>510</a>\u001b[0m     values, tz \u001b[39m=\u001b[39m conversion\u001b[39m.\u001b[39;49mdatetime_to_datetime64(arg)\n\u001b[0;32m    <a href='file:///c%3A/Users/hp/OneDrive/Desktop/Portofolio/Mikha_Portofolio/datascience/lib/site-packages/pandas/core/tools/datetimes.py?line=510'>511</a>\u001b[0m     dta \u001b[39m=\u001b[39m DatetimeArray(values, dtype\u001b[39m=\u001b[39mtz_to_dtype(tz))\n",
      "File \u001b[1;32mc:\\Users\\hp\\OneDrive\\Desktop\\Portofolio\\Mikha_Portofolio\\datascience\\lib\\site-packages\\pandas\\_libs\\tslibs\\conversion.pyx:360\u001b[0m, in \u001b[0;36mpandas._libs.tslibs.conversion.datetime_to_datetime64\u001b[1;34m()\u001b[0m\n",
      "\u001b[1;31mTypeError\u001b[0m: Unrecognized value type: <class 'str'>",
      "\nDuring handling of the above exception, another exception occurred:\n",
      "\u001b[1;31mValueError\u001b[0m                                Traceback (most recent call last)",
      "\u001b[1;32mc:\\Users\\hp\\OneDrive\\Desktop\\Portofolio\\Mikha_Portofolio\\Netflix Dataset\\netflix.ipynb Cell 11'\u001b[0m in \u001b[0;36m<cell line: 1>\u001b[1;34m()\u001b[0m\n\u001b[1;32m----> <a href='vscode-notebook-cell:/c%3A/Users/hp/OneDrive/Desktop/Portofolio/Mikha_Portofolio/Netflix%20Dataset/netflix.ipynb#ch0000017?line=0'>1</a>\u001b[0m nt[\u001b[39m'\u001b[39m\u001b[39mDate\u001b[39m\u001b[39m'\u001b[39m] \u001b[39m=\u001b[39m pd\u001b[39m.\u001b[39;49mto_datetime(nt[\u001b[39m'\u001b[39;49m\u001b[39mdate_added\u001b[39;49m\u001b[39m'\u001b[39;49m], \u001b[39mformat\u001b[39;49m\u001b[39m=\u001b[39;49m\u001b[39m'\u001b[39;49m\u001b[39m%\u001b[39;49m\u001b[39mB \u001b[39;49m\u001b[39m%d\u001b[39;49;00m\u001b[39m, \u001b[39;49m\u001b[39m%\u001b[39;49m\u001b[39mY\u001b[39;49m\u001b[39m'\u001b[39;49m)\n\u001b[0;32m      <a href='vscode-notebook-cell:/c%3A/Users/hp/OneDrive/Desktop/Portofolio/Mikha_Portofolio/Netflix%20Dataset/netflix.ipynb#ch0000017?line=1'>2</a>\u001b[0m \u001b[39mif\u001b[39;00m \u001b[39mValueError\u001b[39;00m:\n\u001b[0;32m      <a href='vscode-notebook-cell:/c%3A/Users/hp/OneDrive/Desktop/Portofolio/Mikha_Portofolio/Netflix%20Dataset/netflix.ipynb#ch0000017?line=2'>3</a>\u001b[0m     nt[\u001b[39m'\u001b[39m\u001b[39mDate\u001b[39m\u001b[39m'\u001b[39m] \u001b[39m=\u001b[39m pd\u001b[39m.\u001b[39mto_datetime(nt[\u001b[39m'\u001b[39m\u001b[39mdate_added\u001b[39m\u001b[39m'\u001b[39m], \u001b[39mformat\u001b[39m\u001b[39m=\u001b[39m\u001b[39m'\u001b[39m\u001b[39m \u001b[39m\u001b[39m%\u001b[39m\u001b[39mB \u001b[39m\u001b[39m%d\u001b[39;00m\u001b[39m, \u001b[39m\u001b[39m%\u001b[39m\u001b[39mY\u001b[39m\u001b[39m'\u001b[39m)\n",
      "File \u001b[1;32mc:\\Users\\hp\\OneDrive\\Desktop\\Portofolio\\Mikha_Portofolio\\datascience\\lib\\site-packages\\pandas\\core\\tools\\datetimes.py:1047\u001b[0m, in \u001b[0;36mto_datetime\u001b[1;34m(arg, errors, dayfirst, yearfirst, utc, format, exact, unit, infer_datetime_format, origin, cache)\u001b[0m\n\u001b[0;32m   <a href='file:///c%3A/Users/hp/OneDrive/Desktop/Portofolio/Mikha_Portofolio/datascience/lib/site-packages/pandas/core/tools/datetimes.py?line=1044'>1045</a>\u001b[0m             result \u001b[39m=\u001b[39m arg\u001b[39m.\u001b[39mtz_localize(tz)\n\u001b[0;32m   <a href='file:///c%3A/Users/hp/OneDrive/Desktop/Portofolio/Mikha_Portofolio/datascience/lib/site-packages/pandas/core/tools/datetimes.py?line=1045'>1046</a>\u001b[0m \u001b[39melif\u001b[39;00m \u001b[39misinstance\u001b[39m(arg, ABCSeries):\n\u001b[1;32m-> <a href='file:///c%3A/Users/hp/OneDrive/Desktop/Portofolio/Mikha_Portofolio/datascience/lib/site-packages/pandas/core/tools/datetimes.py?line=1046'>1047</a>\u001b[0m     cache_array \u001b[39m=\u001b[39m _maybe_cache(arg, \u001b[39mformat\u001b[39;49m, cache, convert_listlike)\n\u001b[0;32m   <a href='file:///c%3A/Users/hp/OneDrive/Desktop/Portofolio/Mikha_Portofolio/datascience/lib/site-packages/pandas/core/tools/datetimes.py?line=1047'>1048</a>\u001b[0m     \u001b[39mif\u001b[39;00m \u001b[39mnot\u001b[39;00m cache_array\u001b[39m.\u001b[39mempty:\n\u001b[0;32m   <a href='file:///c%3A/Users/hp/OneDrive/Desktop/Portofolio/Mikha_Portofolio/datascience/lib/site-packages/pandas/core/tools/datetimes.py?line=1048'>1049</a>\u001b[0m         result \u001b[39m=\u001b[39m arg\u001b[39m.\u001b[39mmap(cache_array)\n",
      "File \u001b[1;32mc:\\Users\\hp\\OneDrive\\Desktop\\Portofolio\\Mikha_Portofolio\\datascience\\lib\\site-packages\\pandas\\core\\tools\\datetimes.py:197\u001b[0m, in \u001b[0;36m_maybe_cache\u001b[1;34m(arg, format, cache, convert_listlike)\u001b[0m\n\u001b[0;32m    <a href='file:///c%3A/Users/hp/OneDrive/Desktop/Portofolio/Mikha_Portofolio/datascience/lib/site-packages/pandas/core/tools/datetimes.py?line=194'>195</a>\u001b[0m unique_dates \u001b[39m=\u001b[39m unique(arg)\n\u001b[0;32m    <a href='file:///c%3A/Users/hp/OneDrive/Desktop/Portofolio/Mikha_Portofolio/datascience/lib/site-packages/pandas/core/tools/datetimes.py?line=195'>196</a>\u001b[0m \u001b[39mif\u001b[39;00m \u001b[39mlen\u001b[39m(unique_dates) \u001b[39m<\u001b[39m \u001b[39mlen\u001b[39m(arg):\n\u001b[1;32m--> <a href='file:///c%3A/Users/hp/OneDrive/Desktop/Portofolio/Mikha_Portofolio/datascience/lib/site-packages/pandas/core/tools/datetimes.py?line=196'>197</a>\u001b[0m     cache_dates \u001b[39m=\u001b[39m convert_listlike(unique_dates, \u001b[39mformat\u001b[39;49m)\n\u001b[0;32m    <a href='file:///c%3A/Users/hp/OneDrive/Desktop/Portofolio/Mikha_Portofolio/datascience/lib/site-packages/pandas/core/tools/datetimes.py?line=197'>198</a>\u001b[0m     cache_array \u001b[39m=\u001b[39m Series(cache_dates, index\u001b[39m=\u001b[39munique_dates)\n\u001b[0;32m    <a href='file:///c%3A/Users/hp/OneDrive/Desktop/Portofolio/Mikha_Portofolio/datascience/lib/site-packages/pandas/core/tools/datetimes.py?line=198'>199</a>\u001b[0m     \u001b[39m# GH#39882 and GH#35888 in case of None and NaT we get duplicates\u001b[39;00m\n",
      "File \u001b[1;32mc:\\Users\\hp\\OneDrive\\Desktop\\Portofolio\\Mikha_Portofolio\\datascience\\lib\\site-packages\\pandas\\core\\tools\\datetimes.py:394\u001b[0m, in \u001b[0;36m_convert_listlike_datetimes\u001b[1;34m(arg, format, name, tz, unit, errors, infer_datetime_format, dayfirst, yearfirst, exact)\u001b[0m\n\u001b[0;32m    <a href='file:///c%3A/Users/hp/OneDrive/Desktop/Portofolio/Mikha_Portofolio/datascience/lib/site-packages/pandas/core/tools/datetimes.py?line=390'>391</a>\u001b[0m         \u001b[39mformat\u001b[39m \u001b[39m=\u001b[39m \u001b[39mNone\u001b[39;00m\n\u001b[0;32m    <a href='file:///c%3A/Users/hp/OneDrive/Desktop/Portofolio/Mikha_Portofolio/datascience/lib/site-packages/pandas/core/tools/datetimes.py?line=392'>393</a>\u001b[0m \u001b[39mif\u001b[39;00m \u001b[39mformat\u001b[39m \u001b[39mis\u001b[39;00m \u001b[39mnot\u001b[39;00m \u001b[39mNone\u001b[39;00m:\n\u001b[1;32m--> <a href='file:///c%3A/Users/hp/OneDrive/Desktop/Portofolio/Mikha_Portofolio/datascience/lib/site-packages/pandas/core/tools/datetimes.py?line=393'>394</a>\u001b[0m     res \u001b[39m=\u001b[39m _to_datetime_with_format(\n\u001b[0;32m    <a href='file:///c%3A/Users/hp/OneDrive/Desktop/Portofolio/Mikha_Portofolio/datascience/lib/site-packages/pandas/core/tools/datetimes.py?line=394'>395</a>\u001b[0m         arg, orig_arg, name, tz, \u001b[39mformat\u001b[39;49m, exact, errors, infer_datetime_format\n\u001b[0;32m    <a href='file:///c%3A/Users/hp/OneDrive/Desktop/Portofolio/Mikha_Portofolio/datascience/lib/site-packages/pandas/core/tools/datetimes.py?line=395'>396</a>\u001b[0m     )\n\u001b[0;32m    <a href='file:///c%3A/Users/hp/OneDrive/Desktop/Portofolio/Mikha_Portofolio/datascience/lib/site-packages/pandas/core/tools/datetimes.py?line=396'>397</a>\u001b[0m     \u001b[39mif\u001b[39;00m res \u001b[39mis\u001b[39;00m \u001b[39mnot\u001b[39;00m \u001b[39mNone\u001b[39;00m:\n\u001b[0;32m    <a href='file:///c%3A/Users/hp/OneDrive/Desktop/Portofolio/Mikha_Portofolio/datascience/lib/site-packages/pandas/core/tools/datetimes.py?line=397'>398</a>\u001b[0m         \u001b[39mreturn\u001b[39;00m res\n",
      "File \u001b[1;32mc:\\Users\\hp\\OneDrive\\Desktop\\Portofolio\\Mikha_Portofolio\\datascience\\lib\\site-packages\\pandas\\core\\tools\\datetimes.py:514\u001b[0m, in \u001b[0;36m_to_datetime_with_format\u001b[1;34m(arg, orig_arg, name, tz, fmt, exact, errors, infer_datetime_format)\u001b[0m\n\u001b[0;32m    <a href='file:///c%3A/Users/hp/OneDrive/Desktop/Portofolio/Mikha_Portofolio/datascience/lib/site-packages/pandas/core/tools/datetimes.py?line=511'>512</a>\u001b[0m     \u001b[39mreturn\u001b[39;00m DatetimeIndex\u001b[39m.\u001b[39m_simple_new(dta, name\u001b[39m=\u001b[39mname)\n\u001b[0;32m    <a href='file:///c%3A/Users/hp/OneDrive/Desktop/Portofolio/Mikha_Portofolio/datascience/lib/site-packages/pandas/core/tools/datetimes.py?line=512'>513</a>\u001b[0m \u001b[39mexcept\u001b[39;00m (\u001b[39mValueError\u001b[39;00m, \u001b[39mTypeError\u001b[39;00m):\n\u001b[1;32m--> <a href='file:///c%3A/Users/hp/OneDrive/Desktop/Portofolio/Mikha_Portofolio/datascience/lib/site-packages/pandas/core/tools/datetimes.py?line=513'>514</a>\u001b[0m     \u001b[39mraise\u001b[39;00m err\n",
      "File \u001b[1;32mc:\\Users\\hp\\OneDrive\\Desktop\\Portofolio\\Mikha_Portofolio\\datascience\\lib\\site-packages\\pandas\\core\\tools\\datetimes.py:501\u001b[0m, in \u001b[0;36m_to_datetime_with_format\u001b[1;34m(arg, orig_arg, name, tz, fmt, exact, errors, infer_datetime_format)\u001b[0m\n\u001b[0;32m    <a href='file:///c%3A/Users/hp/OneDrive/Desktop/Portofolio/Mikha_Portofolio/datascience/lib/site-packages/pandas/core/tools/datetimes.py?line=497'>498</a>\u001b[0m             \u001b[39mreturn\u001b[39;00m _box_as_indexlike(result, utc\u001b[39m=\u001b[39mutc, name\u001b[39m=\u001b[39mname)\n\u001b[0;32m    <a href='file:///c%3A/Users/hp/OneDrive/Desktop/Portofolio/Mikha_Portofolio/datascience/lib/site-packages/pandas/core/tools/datetimes.py?line=499'>500</a>\u001b[0m     \u001b[39m# fallback\u001b[39;00m\n\u001b[1;32m--> <a href='file:///c%3A/Users/hp/OneDrive/Desktop/Portofolio/Mikha_Portofolio/datascience/lib/site-packages/pandas/core/tools/datetimes.py?line=500'>501</a>\u001b[0m     res \u001b[39m=\u001b[39m _array_strptime_with_fallback(\n\u001b[0;32m    <a href='file:///c%3A/Users/hp/OneDrive/Desktop/Portofolio/Mikha_Portofolio/datascience/lib/site-packages/pandas/core/tools/datetimes.py?line=501'>502</a>\u001b[0m         arg, name, tz, fmt, exact, errors, infer_datetime_format\n\u001b[0;32m    <a href='file:///c%3A/Users/hp/OneDrive/Desktop/Portofolio/Mikha_Portofolio/datascience/lib/site-packages/pandas/core/tools/datetimes.py?line=502'>503</a>\u001b[0m     )\n\u001b[0;32m    <a href='file:///c%3A/Users/hp/OneDrive/Desktop/Portofolio/Mikha_Portofolio/datascience/lib/site-packages/pandas/core/tools/datetimes.py?line=503'>504</a>\u001b[0m     \u001b[39mreturn\u001b[39;00m res\n\u001b[0;32m    <a href='file:///c%3A/Users/hp/OneDrive/Desktop/Portofolio/Mikha_Portofolio/datascience/lib/site-packages/pandas/core/tools/datetimes.py?line=505'>506</a>\u001b[0m \u001b[39mexcept\u001b[39;00m \u001b[39mValueError\u001b[39;00m \u001b[39mas\u001b[39;00m err:\n\u001b[0;32m    <a href='file:///c%3A/Users/hp/OneDrive/Desktop/Portofolio/Mikha_Portofolio/datascience/lib/site-packages/pandas/core/tools/datetimes.py?line=506'>507</a>\u001b[0m     \u001b[39m# Fallback to try to convert datetime objects if timezone-aware\u001b[39;00m\n\u001b[0;32m    <a href='file:///c%3A/Users/hp/OneDrive/Desktop/Portofolio/Mikha_Portofolio/datascience/lib/site-packages/pandas/core/tools/datetimes.py?line=507'>508</a>\u001b[0m     \u001b[39m#  datetime objects are found without passing `utc=True`\u001b[39;00m\n",
      "File \u001b[1;32mc:\\Users\\hp\\OneDrive\\Desktop\\Portofolio\\Mikha_Portofolio\\datascience\\lib\\site-packages\\pandas\\core\\tools\\datetimes.py:437\u001b[0m, in \u001b[0;36m_array_strptime_with_fallback\u001b[1;34m(arg, name, tz, fmt, exact, errors, infer_datetime_format)\u001b[0m\n\u001b[0;32m    <a href='file:///c%3A/Users/hp/OneDrive/Desktop/Portofolio/Mikha_Portofolio/datascience/lib/site-packages/pandas/core/tools/datetimes.py?line=433'>434</a>\u001b[0m utc \u001b[39m=\u001b[39m tz \u001b[39m==\u001b[39m \u001b[39m\"\u001b[39m\u001b[39mutc\u001b[39m\u001b[39m\"\u001b[39m\n\u001b[0;32m    <a href='file:///c%3A/Users/hp/OneDrive/Desktop/Portofolio/Mikha_Portofolio/datascience/lib/site-packages/pandas/core/tools/datetimes.py?line=435'>436</a>\u001b[0m \u001b[39mtry\u001b[39;00m:\n\u001b[1;32m--> <a href='file:///c%3A/Users/hp/OneDrive/Desktop/Portofolio/Mikha_Portofolio/datascience/lib/site-packages/pandas/core/tools/datetimes.py?line=436'>437</a>\u001b[0m     result, timezones \u001b[39m=\u001b[39m array_strptime(arg, fmt, exact\u001b[39m=\u001b[39;49mexact, errors\u001b[39m=\u001b[39;49merrors)\n\u001b[0;32m    <a href='file:///c%3A/Users/hp/OneDrive/Desktop/Portofolio/Mikha_Portofolio/datascience/lib/site-packages/pandas/core/tools/datetimes.py?line=437'>438</a>\u001b[0m     \u001b[39mif\u001b[39;00m \u001b[39m\"\u001b[39m\u001b[39m%\u001b[39m\u001b[39mZ\u001b[39m\u001b[39m\"\u001b[39m \u001b[39min\u001b[39;00m fmt \u001b[39mor\u001b[39;00m \u001b[39m\"\u001b[39m\u001b[39m%\u001b[39m\u001b[39mz\u001b[39m\u001b[39m\"\u001b[39m \u001b[39min\u001b[39;00m fmt:\n\u001b[0;32m    <a href='file:///c%3A/Users/hp/OneDrive/Desktop/Portofolio/Mikha_Portofolio/datascience/lib/site-packages/pandas/core/tools/datetimes.py?line=438'>439</a>\u001b[0m         \u001b[39mreturn\u001b[39;00m _return_parsed_timezone_results(result, timezones, tz, name)\n",
      "File \u001b[1;32mc:\\Users\\hp\\OneDrive\\Desktop\\Portofolio\\Mikha_Portofolio\\datascience\\lib\\site-packages\\pandas\\_libs\\tslibs\\strptime.pyx:150\u001b[0m, in \u001b[0;36mpandas._libs.tslibs.strptime.array_strptime\u001b[1;34m()\u001b[0m\n",
      "\u001b[1;31mValueError\u001b[0m: time data ' December 15, 2018' does not match format '%B %d, %Y' (match)"
     ]
    }
   ],
   "source": [
    "\n",
    "nt['Date'] = pd.to_datetime(nt['date_added'], format='%B %d, %Y')\n",
    "if ValueError:\n",
    "    nt['Date'] = pd.to_datetime(nt['date_added'], format=' %B %d, %Y')\n",
    "\n"
   ]
  },
  {
   "cell_type": "code",
   "execution_count": 32,
   "metadata": {},
   "outputs": [],
   "source": [
    "releasetime=nt.groupby(['new_date']).count()"
   ]
  },
  {
   "cell_type": "code",
   "execution_count": 49,
   "metadata": {},
   "outputs": [],
   "source": [
    "nt['date_added'] = nt['date_added'].replace([' December 23, 2018'],'December 23, 2018')\n"
   ]
  },
  {
   "cell_type": "code",
   "execution_count": 53,
   "metadata": {},
   "outputs": [
    {
     "data": {
      "text/plain": [
       "' '"
      ]
     },
     "execution_count": 53,
     "metadata": {},
     "output_type": "execute_result"
    }
   ],
   "source": [
    "a=' December 23, 2018'\n",
    "a[0]\n"
   ]
  },
  {
   "cell_type": "code",
   "execution_count": null,
   "metadata": {},
   "outputs": [],
   "source": []
  }
 ],
 "metadata": {
  "interpreter": {
   "hash": "cd38beeae9e22e8e727a616768a824f621c56d1cf9fd7a268b0277ffff3640cb"
  },
  "kernelspec": {
   "display_name": "Python 3.8.10 ('datascience': venv)",
   "language": "python",
   "name": "python3"
  },
  "language_info": {
   "codemirror_mode": {
    "name": "ipython",
    "version": 3
   },
   "file_extension": ".py",
   "mimetype": "text/x-python",
   "name": "python",
   "nbconvert_exporter": "python",
   "pygments_lexer": "ipython3",
   "version": "3.8.10"
  },
  "orig_nbformat": 4
 },
 "nbformat": 4,
 "nbformat_minor": 2
}
